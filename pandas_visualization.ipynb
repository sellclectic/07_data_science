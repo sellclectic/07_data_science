{
 "cells": [
  {
   "cell_type": "markdown",
   "metadata": {},
   "source": [
    "# Data Visualization with Pandas"
   ]
  },
  {
   "cell_type": "markdown",
   "metadata": {},
   "source": [
    "## Introduction\n",
    "In this lesson, we will be looking at data visualization using Pandas and Matplotlib - modules that we have already seen and used. Pandas uses matplotlib under the hood for data visualization, and provides some handy yet efficient functions for visualizing data from DataFrames."
   ]
  },
  {
   "cell_type": "markdown",
   "metadata": {},
   "source": [
    "## Objectives\n",
    "You will be able to:\n",
    "* Understand the relation between `pandas` and `matplotlib` plots and their attributes\n",
    "* Plot data from single variables using scatter plots, histograms, line plots, boxplots and KDE plots in pandas\n",
    "* Plot multidimensional data using scatter matrix and parallel coordinate plots."
   ]
  },
  {
   "cell_type": "markdown",
   "metadata": {},
   "source": [
    "## Styling a Plot\n",
    "\n",
    "Before we dive into data visualization in Pandas, it would be a good idea to get a quick introduction to Matplotlib's `style` package. Matplotlib comes with a number of predefined styles to customize the plots. These styles generally change the look of plots by changing color maps, line styles, backgrounds etc. Because Pandas is built on Matplotlib for visualizations, this will change the style of our Pandas graphs as well as we'll see below: \n",
    "\n",
    "We can use `plt.style.available` to see a list of predefined styles available in Matplotlib. The `%matplotlib` notebook magic below optimizes the plots for displaying them in jupyter notebooks"
   ]
  },
  {
   "cell_type": "code",
   "execution_count": null,
   "metadata": {},
   "outputs": [],
   "source": [
    "import matplotlib.pyplot as plt\n",
    "%matplotlib notebook\n",
    "plt.style.available\n"
   ]
  },
  {
   "cell_type": "markdown",
   "metadata": {},
   "source": [
    "So this provides us with a list of styles available. In order to use a style, we simply give the command `plt.style.use(<style name>)`. Let's use `ggplot` for now and see how it changes the default style. Feel free to try other styles and see how they impact the look and feel of the plots! "
   ]
  },
  {
   "cell_type": "code",
   "execution_count": null,
   "metadata": {},
   "outputs": [],
   "source": [
    "plt.style.use('ggplot')"
   ]
  },
  {
   "cell_type": "markdown",
   "metadata": {},
   "source": [
    "## Create a dataset for visualization"
   ]
  },
  {
   "cell_type": "markdown",
   "metadata": {},
   "source": [
    "Pandas offers excellent built-in visualization features. It's particularly useful for exploratory data analysis of data that's stored as Pandas Series or DataFrame. \n",
    "\n",
    "Let's build a synthetic temporal DataFrame with following steps:\n",
    "\n",
    "* Data frame with three columns A, B and C\n",
    "* For data in each column, we will use a random number generator to generate 365 numbers (to reflect days in a year) using `np.random.randn()`.\n",
    "* Using numpy's `cumsum` (cumulative sum) method, we will cumulatively sum the generated random numbers in each column. \n",
    "* Offset column A by +25 and column C by -25 with respect to Column B, which will remain unchanged\n",
    "* Using `pd.date_range`, set the index to be every day in 2018 (starting from 1st of January).\n",
    "\n",
    "We'll also set a seed for controlling the randomization, allowing us to reproduce the data. \n",
    "\n",
    "> It is always a good idea to set a random seed when dealing with probabilistic outputs. \n",
    "\n",
    "Let's give this a go:"
   ]
  },
  {
   "cell_type": "code",
   "execution_count": null,
   "metadata": {},
   "outputs": [],
   "source": [
    "import pandas as pd\n",
    "import numpy as np\n",
    "\n",
    "np.random.seed(777)\n",
    "\n",
    "data = pd.DataFrame({'A':np.random.randn(365).cumsum(),\n",
    "                    'B':np.random.randn(365).cumsum() + 25,\n",
    "                    'C':np.random.randn(365).cumsum() - 25}, \n",
    "                     index = pd.date_range('1/1/2018', periods = 365))\n",
    "data.head()"
   ]
  },
  {
   "cell_type": "markdown",
   "metadata": {},
   "source": [
    "This is great. Now we have a dataset with three columns we can call time-series. Let's inspect our data visually. To plot this data we can simply use the `.plot()` method on the DataFrame. "
   ]
  },
  {
   "cell_type": "code",
   "execution_count": null,
   "metadata": {},
   "outputs": [],
   "source": [
    "data.plot()"
   ]
  },
  {
   "cell_type": "markdown",
   "metadata": {},
   "source": [
    "This is sweet. So we didn't have to define our canvas, axes or labels etc. This is where pandas really shines. The `DataFrame.plot()` method is just a simple wrapper around `plt.plot()` that draws line plots. So when we call `data.plot()`, we get a line graph of all the columns in the data frame with labels. \n",
    "\n",
    "Also, notice how this plot looks different in terms of look and feel. This is because of the style we used earlier. Additionally, the `%matplotlib notebook` makes the plots interactive. Try clicking, dragging , zooming on above plot to see how this works. \n",
    "\n",
    "> Try changing the to a different style and see which one would you prefer. "
   ]
  },
  {
   "cell_type": "markdown",
   "metadata": {},
   "source": [
    "## Scatter Plots\n",
    "\n",
    "The `DataFrame.plot()` allows us to plot a number of different kinds of plots. We can select which plot we want to use by pressing it into the `kind` parameter. Here is a complete list from the [documentation](https://pandas.pydata.org/pandas-docs/stable/generated/pandas.DataFrame.plot.html)\n",
    "```\n",
    "kind : str\n",
    "\n",
    "‘line’ : line plot (default)\n",
    "‘bar’ : vertical bar plot\n",
    "‘barh’ : horizontal bar plot\n",
    "‘hist’ : histogram\n",
    "‘box’ : boxplot\n",
    "‘kde’ : Kernel Density Estimation plot\n",
    "‘density’ : same as ‘kde’\n",
    "‘area’ : area plot\n",
    "‘pie’ : pie plot\n",
    "‘scatter’ : scatter plot\n",
    "‘hexbin’ : hexbin plot\n",
    "```\n",
    "\n"
   ]
  },
  {
   "cell_type": "markdown",
   "metadata": {},
   "source": [
    "Let's try and create a scatter plot that takes the A and B columns of `data`.  We pass in `\"scatter\"` to the `kind` parameter to change the plot type. Also note, putting a semicolon at the end of plotting function would mute any extra text out. "
   ]
  },
  {
   "cell_type": "code",
   "execution_count": null,
   "metadata": {},
   "outputs": [],
   "source": [
    "data.plot('A', 'B', kind='scatter' );"
   ]
  },
  {
   "cell_type": "markdown",
   "metadata": {},
   "source": [
    "We can also choose the plot kind by using the methods `dataframe.plot.kind` instead of passing the `kind` argument as we'll see below. Lets now create another scatter plot with points varying in color and size. We'll perform the following steps:\n",
    "\n",
    "* Use `df.plot.scatter` and pass in columns A and C. \n",
    "* Set the color `c` and size `s` of the data points to change based on the value of column B.\n",
    "* Choose the color palette by passing a string into the parameter `colormap`. \n",
    "\n",
    "> A complete list of colormaps is available at [Official Documentation](https://matplotlib.org/examples/color/colormaps_reference.html)\n",
    "\n",
    "Let's see this in action:"
   ]
  },
  {
   "cell_type": "code",
   "execution_count": null,
   "metadata": {},
   "outputs": [],
   "source": [
    "data.plot.scatter('A', 'C', \n",
    "                  c = 'B',\n",
    "                  s = data['B'],\n",
    "                 colormap = 'viridis');"
   ]
  },
  {
   "cell_type": "markdown",
   "metadata": {},
   "source": [
    "Here,  A and C columns plotted against one another with graduating color and changing the size and based on the values of the B column. \n",
    "\n",
    "`df.plot.scatter()` returns a `matplotlib.axes._subplot` object so we can perform modification on these objects just like we would do in matplotlib plots as shown below. Here we'll change the aspect ratio for the scatter plot generated above, and add a title using `axes` properties."
   ]
  },
  {
   "cell_type": "code",
   "execution_count": null,
   "metadata": {},
   "outputs": [],
   "source": [
    "ax = data.plot.scatter('A', 'C', \n",
    "                        c = 'B',\n",
    "                        s = data['B'],\n",
    "                        colormap = 'viridis',\n",
    "                         )\n",
    "ax.set_aspect('equal')\n",
    "ax.set_title('Manipulating Pandas plot objects in matplotlib')"
   ]
  },
  {
   "cell_type": "markdown",
   "metadata": {},
   "source": [
    "> Setting the aspect ratio to equal allows the viewer to easily see that the range of series A is much smaller than series C. "
   ]
  },
  {
   "cell_type": "markdown",
   "metadata": {},
   "source": [
    "## Some other plots"
   ]
  },
  {
   "cell_type": "markdown",
   "metadata": {},
   "source": [
    "So we saw line plots and scatter plots above. We can also plot histograms, boxplots and kernel density estimations in almost the same manner. Here are quick few examples of each using the same dataset as above:"
   ]
  },
  {
   "cell_type": "code",
   "execution_count": null,
   "metadata": {},
   "outputs": [],
   "source": [
    "# Box Plots\n",
    "data.plot.box();"
   ]
  },
  {
   "cell_type": "code",
   "execution_count": null,
   "metadata": {},
   "outputs": [],
   "source": [
    "# Histograms \n",
    "data.plot.hist(alpha = 0.7) # setting alpha level to inspect distribution overlap"
   ]
  },
  {
   "cell_type": "code",
   "execution_count": null,
   "metadata": {},
   "outputs": [],
   "source": [
    "# Kernel Density Estimate plots\n",
    "# Useful for visualizing an estimate of a variable's probability density function. \n",
    "# Kernel density estimation applications will be covered later\n",
    "data.plot.kde();"
   ]
  },
  {
   "cell_type": "markdown",
   "metadata": {},
   "source": [
    "> You are encouraged to experiment more with how these plots are generated. Try to add more personalizations to the plots above as shown in the scatterplot example. "
   ]
  },
  {
   "cell_type": "markdown",
   "metadata": {},
   "source": [
    "## Visualizing High Dimensional Data"
   ]
  },
  {
   "cell_type": "markdown",
   "metadata": {},
   "source": [
    "Pandas also has plotting tools that help with visualizing high dimensional data i.e. way too many columns/variables to inspect individually.  Let's explore some of these features by loading in the iris flower data set. \n",
    "\n",
    ">The iris data set is a classic multivariate data set, which includes the sepal length, sepal width, petal length, and petal width  for hundreds of samples of three species of the iris flower. \n",
    "\n",
    "The iris dataset is available in your folder as `iris.csv`."
   ]
  },
  {
   "cell_type": "code",
   "execution_count": null,
   "metadata": {},
   "outputs": [],
   "source": [
    "iris = pd.read_csv('iris.csv')\n",
    "iris.head()"
   ]
  },
  {
   "cell_type": "markdown",
   "metadata": {},
   "source": [
    "### Scatter Matrix"
   ]
  },
  {
   "cell_type": "markdown",
   "metadata": {},
   "source": [
    "Pandas has a plotting tool that allows us to create a scatter matrix from a DataFrame. A scatter matrix is a way of comparing each column in a DataFrame to every other column in a pairwise fashion. \n",
    "\n",
    ">The **scatter matrix** creates scatter plots between the different variables and histograms along the diagonals. \n",
    "\n",
    "This allows us to quickly see some of the more obvious patterns in the data set. Let's use it to visualize the iris dataframe and see what insights we can gain from our data. \n",
    "we will use the method `pd.tools.plotting.scatter_matrix()` and pass in our dataset as an argument."
   ]
  },
  {
   "cell_type": "code",
   "execution_count": null,
   "metadata": {},
   "outputs": [],
   "source": [
    "pd.plotting.scatter_matrix(iris);"
   ]
  },
  {
   "cell_type": "markdown",
   "metadata": {},
   "source": [
    "Looking at above scatter plots generated by `scatter_matrix`, it appears that there are some distinct groupings of the values which could be indicative of clustering/ grouping etc. Such handy visual analytics allows us to be better decide a course for action for in-depth predictive analysis. "
   ]
  },
  {
   "cell_type": "markdown",
   "metadata": {},
   "source": [
    "### Parallel Plots"
   ]
  },
  {
   "cell_type": "markdown",
   "metadata": {},
   "source": [
    "Pandas includes a plotting tool for creating parallel coordinates plots which could be a great way to visualize multivariate data.\n",
    "\n",
    ">Parallel coordinate plots are a common way of visualizing high dimensional multivariate data. Each variable in the data set corresponds to an equally spaced parallel vertical line. The values of each variable are then connected by lines between for each individual observation. \n",
    "\n",
    "Let's create a parallel plot for the 4 predictor variables in the iris dataset and see if we can make any further judgments about the nature of data. We will use the `pd.plotting.parellel_coordinates()` method and pass in the iris dataset with the response column (species) as an argument, just like we saw above. Let's also apply some customizations.\n",
    "\n",
    "* Color the lines by class given in 'species' column (this will allow handy inspection to see any patterns). \n"
   ]
  },
  {
   "cell_type": "code",
   "execution_count": null,
   "metadata": {
    "scrolled": false
   },
   "outputs": [],
   "source": [
    "# Set a colormap with 3 colors to show species.\n",
    "colormap = ('skyblue', 'salmon', 'lightgreen')\n",
    "plt.figure()\n",
    "pd.plotting.parallel_coordinates(iris, 'species', color=colormap);"
   ]
  },
  {
   "cell_type": "markdown",
   "metadata": {},
   "source": [
    "### So what do we learn from parallel plot ?\n",
    "\n",
    "Looking at our parallel plot, we can see that the petal length and petal width are two variables that split the different species fairly clearly. Iris virginica has the longest and the widest petals among all flower types. Iris setosa has the shortest and narrowest petals etc. \n",
    "\n",
    "These initial set of statistical observations go a long way in the field of data analytics. We may decide to apply extra pre-processing to the data, or decide which are the best predictor variables for our analysis - based on the results of quick visualizations in pandas. \n",
    "\n",
    "## Level Up: (Optional)\n",
    "\n",
    "In the parallel plot above, we can see that feature values have different ranges. We can further simplify this plot by first normalizing the dataset (i.e. scaling all feature values between 0 and 1) and then plotting a parallel plot. \n",
    "[Here is an article](https://machinelearningmastery.com/rescaling-data-for-machine-learning-in-python-with-scikit-learn/) with a short yet insightful description of normalizing and scaling data in Python. \n",
    "\n",
    "## Summary\n",
    "\n",
    "In this lesson, we learned about the relationship between Pandas visualizations and Matplotlib objects. We saw how we can customize plots with colormaps and plot styles. We plotted some uni-variate data using scatter, box plots, line plots and KDEs , as well as multivariate (multidimensional) plotting using scatter matrix and parallel coordinate plots. In the future, we will look into `seaborn` plotting library and see how that can further simplify our visualization tasks. "
   ]
  }
 ],
 "metadata": {
  "kernelspec": {
   "display_name": "Python 3",
   "language": "python",
   "name": "python3"
  },
  "language_info": {
   "codemirror_mode": {
    "name": "ipython",
    "version": 3
   },
   "file_extension": ".py",
   "mimetype": "text/x-python",
   "name": "python",
   "nbconvert_exporter": "python",
   "pygments_lexer": "ipython3",
   "version": "3.7.3"
  },
  "toc": {
   "base_numbering": 1,
   "nav_menu": {},
   "number_sections": true,
   "sideBar": true,
   "skip_h1_title": false,
   "title_cell": "Table of Contents",
   "title_sidebar": "Contents",
   "toc_cell": false,
   "toc_position": {},
   "toc_section_display": true,
   "toc_window_display": false
  }
 },
 "nbformat": 4,
 "nbformat_minor": 2
}
